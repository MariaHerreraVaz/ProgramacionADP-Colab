{
  "nbformat": 4,
  "nbformat_minor": 0,
  "metadata": {
    "colab": {
      "provenance": [],
      "include_colab_link": true
    },
    "kernelspec": {
      "name": "python3",
      "display_name": "Python 3"
    },
    "language_info": {
      "name": "python"
    }
  },
  "cells": [
    {
      "cell_type": "markdown",
      "metadata": {
        "id": "view-in-github",
        "colab_type": "text"
      },
      "source": [
        "<a href=\"https://colab.research.google.com/github/MariaHerreraVaz/ProgramacionADP-Colab/blob/main/Practica_21_263142.ipynb\" target=\"_parent\"><img src=\"https://colab.research.google.com/assets/colab-badge.svg\" alt=\"Open In Colab\"/></a>"
      ]
    },
    {
      "cell_type": "markdown",
      "source": [
        "# **Practica 21**\n",
        "---\n",
        "---\n",
        "\n",
        "\n",
        "**Nombre de alumno:** María del Carmen Herrera Vázquez\n",
        "\n",
        "**Matricula:** 263142\n",
        "\n",
        "---\n",
        "\n",
        "**Analisis predictivo**\n",
        "\n",
        "Primeras etapas del procesamiento de los datos."
      ],
      "metadata": {
        "id": "dE7cDKLpc78R"
      }
    },
    {
      "cell_type": "markdown",
      "source": [
        "## **Ejercicio 1:** Normalización Min-Max"
      ],
      "metadata": {
        "id": "j1HbM_03d8BJ"
      }
    },
    {
      "cell_type": "markdown",
      "source": [
        "### **1.**\tCargar el dataset wine de sklearn."
      ],
      "metadata": {
        "id": "KZEW-lVMtYr2"
      }
    },
    {
      "cell_type": "code",
      "source": [
        "#descarga del dataset\n",
        "from sklearn.datasets import load_wine\n",
        "import pandas as pd\n",
        "import matplotlib.pyplot as plt\n",
        "import seaborn as sns\n",
        "\n",
        "# Cargar el dataset\n",
        "wine = load_wine()\n",
        "df1 = pd.DataFrame(wine.data, columns=wine.feature_names)\n",
        "print(df1.head())"
      ],
      "metadata": {
        "colab": {
          "base_uri": "https://localhost:8080/"
        },
        "id": "dLsUbMnfsnq-",
        "outputId": "9ecdc7f2-99e4-472d-dfa5-5b9bb2cdaed0"
      },
      "execution_count": 1,
      "outputs": [
        {
          "output_type": "stream",
          "name": "stdout",
          "text": [
            "   alcohol  malic_acid   ash  alcalinity_of_ash  magnesium  total_phenols  \\\n",
            "0    14.23        1.71  2.43               15.6      127.0           2.80   \n",
            "1    13.20        1.78  2.14               11.2      100.0           2.65   \n",
            "2    13.16        2.36  2.67               18.6      101.0           2.80   \n",
            "3    14.37        1.95  2.50               16.8      113.0           3.85   \n",
            "4    13.24        2.59  2.87               21.0      118.0           2.80   \n",
            "\n",
            "   flavanoids  nonflavanoid_phenols  proanthocyanins  color_intensity   hue  \\\n",
            "0        3.06                  0.28             2.29             5.64  1.04   \n",
            "1        2.76                  0.26             1.28             4.38  1.05   \n",
            "2        3.24                  0.30             2.81             5.68  1.03   \n",
            "3        3.49                  0.24             2.18             7.80  0.86   \n",
            "4        2.69                  0.39             1.82             4.32  1.04   \n",
            "\n",
            "   od280/od315_of_diluted_wines  proline  \n",
            "0                          3.92   1065.0  \n",
            "1                          3.40   1050.0  \n",
            "2                          3.17   1185.0  \n",
            "3                          3.45   1480.0  \n",
            "4                          2.93    735.0  \n"
          ]
        }
      ]
    },
    {
      "cell_type": "markdown",
      "source": [
        "### **2.**\tSeleccionar una de las características numéricas (por ejemplo, alcohol)."
      ],
      "metadata": {
        "id": "9XaHYBJleWRD"
      }
    },
    {
      "cell_type": "code",
      "source": [
        "#seleccionar la caracteristica de alcohol\n",
        "alcohol = df1['alcohol']\n",
        "print(alcohol.head())"
      ],
      "metadata": {
        "colab": {
          "base_uri": "https://localhost:8080/"
        },
        "id": "6SBD3u9Lt2Sj",
        "outputId": "f9f03b75-8ba7-48f9-8a47-3f0f89d1daed"
      },
      "execution_count": 2,
      "outputs": [
        {
          "output_type": "stream",
          "name": "stdout",
          "text": [
            "0    14.23\n",
            "1    13.20\n",
            "2    13.16\n",
            "3    14.37\n",
            "4    13.24\n",
            "Name: alcohol, dtype: float64\n"
          ]
        }
      ]
    },
    {
      "cell_type": "markdown",
      "source": [
        "### **3.**\tRealizar una prueba de normalidad (usando scipy.stats.shapiro) sobre los datos originales.\n"
      ],
      "metadata": {
        "id": "YFs9FaWkeeGs"
      }
    },
    {
      "cell_type": "code",
      "source": [
        "#prueba de normalidad\n",
        "from scipy.stats import shapiro\n",
        "stat1, p1 = shapiro(alcohol)\n",
        "print('stat=%.3f, p=%.3f' % (stat1, p1))\n",
        "if p1 > 0.05:\n",
        "\tprint('Parece seguir una distribucion normal')\n",
        "else:\n",
        "\tprint('No sigue una distribucion normal')"
      ],
      "metadata": {
        "colab": {
          "base_uri": "https://localhost:8080/"
        },
        "id": "nH4W75sSuzWo",
        "outputId": "631bad02-769c-4ae9-ded0-d2b99b505884"
      },
      "execution_count": 3,
      "outputs": [
        {
          "output_type": "stream",
          "name": "stdout",
          "text": [
            "stat=0.982, p=0.020\n",
            "No sigue una distribucion normal\n"
          ]
        }
      ]
    },
    {
      "cell_type": "markdown",
      "source": [
        "### **4.**\tAplicar la normalización Min-Max a los datos seleccionados.\n"
      ],
      "metadata": {
        "id": "v_FoWzlEejoe"
      }
    },
    {
      "cell_type": "code",
      "source": [
        "#normalizacion MinMax\n",
        "from sklearn.preprocessing import MinMaxScaler\n",
        "scaler = MinMaxScaler()\n",
        "alcohol_norm = scaler.fit_transform(alcohol.values.reshape(-1, 1))\n",
        "\n",
        "#realizamos conversion a dataframe para visualizarlo bien\n",
        "df1['alcohol_norm'] = alcohol_norm"
      ],
      "metadata": {
        "id": "5GgJlZ2-vr6t"
      },
      "execution_count": 4,
      "outputs": []
    },
    {
      "cell_type": "markdown",
      "source": [
        "### **5.**\tRealizar la prueba de normalidad nuevamente sobre los datos normalizados.\n"
      ],
      "metadata": {
        "id": "LgOHvytGemX8"
      }
    },
    {
      "cell_type": "code",
      "source": [
        "#pruebas de normalidad\n",
        "stat1, p1 = shapiro(alcohol_norm)\n",
        "print('stat=%.3f, p=%.3f' % (stat1, p1))\n",
        "if p1 > 0.05:\n",
        "\tprint('Parece seguir una distribucion normal')\n",
        "else:\n",
        "\tprint('No sigue una distribucion normal')"
      ],
      "metadata": {
        "colab": {
          "base_uri": "https://localhost:8080/"
        },
        "id": "mymEivotwRkT",
        "outputId": "9736254f-031c-42b1-a5c0-80d3a29e93fb"
      },
      "execution_count": 5,
      "outputs": [
        {
          "output_type": "stream",
          "name": "stdout",
          "text": [
            "stat=0.982, p=0.020\n",
            "No sigue una distribucion normal\n"
          ]
        }
      ]
    },
    {
      "cell_type": "markdown",
      "source": [
        "### **6.**\tGraficar los datos originales y los normalizados utilizando matplotlib o seaborn.\n"
      ],
      "metadata": {
        "id": "aPKBCrvseo-T"
      }
    },
    {
      "cell_type": "code",
      "source": [
        "#graficar datos originales vs normalizados\n",
        "plt.figure(figsize=(10, 5))\n",
        "\n",
        "plt.subplot(1, 2, 1)\n",
        "sns.histplot(alcohol, kde=True, color='#DE4949')\n",
        "plt.title('Datos originales de Alcohol')\n",
        "\n",
        "plt.subplot(1, 2, 2)\n",
        "sns.histplot(alcohol_norm, kde=True, color='#C74242')\n",
        "plt.title('Datos normalizados de Alcohol')\n",
        "\n",
        "plt.tight_layout()\n",
        "plt.show()"
      ],
      "metadata": {
        "colab": {
          "base_uri": "https://localhost:8080/",
          "height": 507
        },
        "id": "3QCR7jLYwe7u",
        "outputId": "bc8fc938-8218-4b6f-f367-8d8a77295d20"
      },
      "execution_count": 25,
      "outputs": [
        {
          "output_type": "display_data",
          "data": {
            "text/plain": [
              "<Figure size 1000x500 with 2 Axes>"
            ],
            "image/png": "[encoded data removed]"
          },
          "metadata": {}
        }
      ]
    },
    {
      "cell_type": "markdown",
      "source": [
        "### **7.** Preguntas"
      ],
      "metadata": {
        "id": "WUUoeCk_eze_"
      }
    },
    {
      "cell_type": "markdown",
      "source": [
        "**1. ¿Cómo afectó la normalización Min-Max a la distribución de los datos?**\n",
        "\n",
        "No hubo alteraciones de los datos por los datos sesgados.\n",
        "\n",
        "\n",
        "\n",
        "**2. ¿Qué interpretas del p-valor antes y después de la normalización?**\n",
        "\n",
        "Antes: el valor de p era menor que el 0.05, es decir que no sigue una distribucion normal.\n",
        "\n",
        "Despues: el valor de p despues de ser normalizado siguio siendo menor que el 0.05, entonces no hubo diferencia."
      ],
      "metadata": {
        "id": "nomXUqLMy9Gj"
      }
    },
    {
      "cell_type": "markdown",
      "source": [
        "## **Ejercicio 2:** Normalización Z-Score\n",
        "\n",
        "\n"
      ],
      "metadata": {
        "id": "U0VuI_yIbyIM"
      }
    },
    {
      "cell_type": "markdown",
      "source": [
        "### **1.**\tCargar el dataset wine de sklearn.\n"
      ],
      "metadata": {
        "id": "c9Us_av3cDlQ"
      }
    },
    {
      "cell_type": "code",
      "source": [
        "#carga del dataset\n",
        "from sklearn.datasets import load_wine\n",
        "import pandas as pd\n",
        "import matplotlib.pyplot as plt\n",
        "import seaborn as sns\n",
        "\n",
        "# Cargar el dataset\n",
        "wine = load_wine()\n",
        "df2 = pd.DataFrame(wine.data, columns=wine.feature_names)\n",
        "print(df2.head())"
      ],
      "metadata": {
        "colab": {
          "base_uri": "https://localhost:8080/"
        },
        "id": "dMP_677n2eiA",
        "outputId": "27c55fcd-e4eb-4c44-d733-c0525b5c4c52"
      },
      "execution_count": 7,
      "outputs": [
        {
          "output_type": "stream",
          "name": "stdout",
          "text": [
            "   alcohol  malic_acid   ash  alcalinity_of_ash  magnesium  total_phenols  \\\n",
            "0    14.23        1.71  2.43               15.6      127.0           2.80   \n",
            "1    13.20        1.78  2.14               11.2      100.0           2.65   \n",
            "2    13.16        2.36  2.67               18.6      101.0           2.80   \n",
            "3    14.37        1.95  2.50               16.8      113.0           3.85   \n",
            "4    13.24        2.59  2.87               21.0      118.0           2.80   \n",
            "\n",
            "   flavanoids  nonflavanoid_phenols  proanthocyanins  color_intensity   hue  \\\n",
            "0        3.06                  0.28             2.29             5.64  1.04   \n",
            "1        2.76                  0.26             1.28             4.38  1.05   \n",
            "2        3.24                  0.30             2.81             5.68  1.03   \n",
            "3        3.49                  0.24             2.18             7.80  0.86   \n",
            "4        2.69                  0.39             1.82             4.32  1.04   \n",
            "\n",
            "   od280/od315_of_diluted_wines  proline  \n",
            "0                          3.92   1065.0  \n",
            "1                          3.40   1050.0  \n",
            "2                          3.17   1185.0  \n",
            "3                          3.45   1480.0  \n",
            "4                          2.93    735.0  \n"
          ]
        }
      ]
    },
    {
      "cell_type": "markdown",
      "source": [
        "### **2.**\tSeleccionar una de las características numéricas (por ejemplo, malic_acid)."
      ],
      "metadata": {
        "id": "qa2xduimcLsF"
      }
    },
    {
      "cell_type": "code",
      "source": [
        "#seleccionamos la caracteristica numerica malic_acid\n",
        "malic_acid = df2['malic_acid']\n",
        "print(malic_acid.describe())"
      ],
      "metadata": {
        "colab": {
          "base_uri": "https://localhost:8080/"
        },
        "id": "ptu_rzk22kf1",
        "outputId": "01fe0e19-42cc-4fb3-c135-46775076d0cb"
      },
      "execution_count": 8,
      "outputs": [
        {
          "output_type": "stream",
          "name": "stdout",
          "text": [
            "count    178.000000\n",
            "mean       2.336348\n",
            "std        1.117146\n",
            "min        0.740000\n",
            "25%        1.602500\n",
            "50%        1.865000\n",
            "75%        3.082500\n",
            "max        5.800000\n",
            "Name: malic_acid, dtype: float64\n"
          ]
        }
      ]
    },
    {
      "cell_type": "markdown",
      "source": [
        "### **3.**\tRealizar una prueba de normalidad (usando scipy.stats.shapiro) sobre los datos originales.\n"
      ],
      "metadata": {
        "id": "JRfbvwIecPYN"
      }
    },
    {
      "cell_type": "code",
      "source": [
        "#prueba de normalidad sobre los datos originales\n",
        "from scipy.stats import shapiro\n",
        "stat2, p2 = shapiro(malic_acid)\n",
        "print('stat=%.3f, p=%.3f' % (stat2, p2))\n",
        "if p2 > 0.05:\n",
        "\tprint('Parece seguir una distribucion normal')\n",
        "else:\n",
        "\tprint('No sigue una distribucion normal')"
      ],
      "metadata": {
        "colab": {
          "base_uri": "https://localhost:8080/"
        },
        "id": "8zqeOx0j2t0O",
        "outputId": "8293bcf2-beeb-413c-c051-a4ea6a83ee9a"
      },
      "execution_count": 9,
      "outputs": [
        {
          "output_type": "stream",
          "name": "stdout",
          "text": [
            "stat=0.889, p=0.000\n",
            "No sigue una distribucion normal\n"
          ]
        }
      ]
    },
    {
      "cell_type": "markdown",
      "source": [
        "### **4.**\tAplicar la normalización Z-Score a los datos seleccionados.\n"
      ],
      "metadata": {
        "id": "Njxeh3LfcSu-"
      }
    },
    {
      "cell_type": "code",
      "source": [
        "#aplicar normalizacion Z score a los datos seleccionados\n",
        "from sklearn.preprocessing import StandardScaler\n",
        "\n",
        "scaler = StandardScaler()\n",
        "malic_acid_norm = scaler.fit_transform(malic_acid.values.reshape(-1, 1))\n",
        "\n",
        "#agregamos una nueva columna normalizada para guardar la info\n",
        "df2['malic_acid_norm'] = malic_acid_norm"
      ],
      "metadata": {
        "id": "vBuer_S62zLF"
      },
      "execution_count": 10,
      "outputs": []
    },
    {
      "cell_type": "markdown",
      "source": [
        "### **5.**\tRealizar la prueba de normalidad nuevamente sobre los datos normalizados.\n"
      ],
      "metadata": {
        "id": "QIteLclocV73"
      }
    },
    {
      "cell_type": "code",
      "source": [
        "#prueba de normalidad otra vez sobre los datos normalizados (Z score normalizado)\n",
        "stat22, p22 = shapiro(malic_acid_norm)\n",
        "print('stat=%.3f, p=%.3f' % (stat22, p22))\n",
        "if p22 > 0.05:\n",
        "\tprint('Parece seguir una distribucion normal')\n",
        "else:\n",
        "\tprint('No sigue una distribucion normal')"
      ],
      "metadata": {
        "colab": {
          "base_uri": "https://localhost:8080/"
        },
        "id": "nLKaGxBV26B_",
        "outputId": "4bc208bc-94e2-48d0-d03d-6e1bca943c45"
      },
      "execution_count": 11,
      "outputs": [
        {
          "output_type": "stream",
          "name": "stdout",
          "text": [
            "stat=0.889, p=0.000\n",
            "No sigue una distribucion normal\n"
          ]
        }
      ]
    },
    {
      "cell_type": "markdown",
      "source": [
        "### **6.**\tGraficar los datos originales y los normalizados utilizando matplotlib o seaborn.\n"
      ],
      "metadata": {
        "id": "D_b3FFVMcYmo"
      }
    },
    {
      "cell_type": "code",
      "source": [
        "#graficar los valores originales y normalizados utilizando mathplotlib o seaborn\n",
        "plt.figure(figsize=(10, 5))\n",
        "\n",
        "plt.subplot(1, 2, 1)\n",
        "sns.histplot(malic_acid, kde=True, color='#DB7748')\n",
        "plt.title('Datos originales de Malic Acid')\n",
        "\n",
        "plt.subplot(1, 2, 2)\n",
        "sns.histplot(malic_acid_norm, kde=True, color='#C76C42')\n",
        "plt.title('Datos normalizados de Malic Acid')\n",
        "\n",
        "plt.tight_layout()\n",
        "plt.show()"
      ],
      "metadata": {
        "colab": {
          "base_uri": "https://localhost:8080/",
          "height": 507
        },
        "id": "_AeUeqOx2-ua",
        "outputId": "d8a797f2-f9f8-495d-fb59-f509428170db"
      },
      "execution_count": 26,
      "outputs": [
        {
          "output_type": "display_data",
          "data": {
            "text/plain": [
              "<Figure size 1000x500 with 2 Axes>"
            ],
            "image/png": "[encoded data removed]"
          },
          "metadata": {}
        }
      ]
    },
    {
      "cell_type": "markdown",
      "source": [
        "### **7.**\tPreguntas\n"
      ],
      "metadata": {
        "id": "4I7D5qUXccFe"
      }
    },
    {
      "cell_type": "markdown",
      "source": [
        "**1. ¿Qué diferencia observas entre la distribución original y la normalizada con Z-Score?**\n",
        "\n",
        "**Original:** los datos de la columna malic_acid son distintos del 0.\n",
        "\n",
        "**Normalizada:** De igual forma, aun despues de la normalizacion no hubo cambios en la distribucion (unos muy leves) pero la curva de la linea sigue siendo igual que la original.\n",
        "\n",
        "**2. ¿Qué implicaciones tiene la normalización Z-Score en el análisis de los datos?**\n",
        "\n",
        "Pues con esta normalización (Z score) hace que los datos que estan cercas del 0 y aparte de su escabilidad (sin hacer alteraciones de la distribucion) puede ser funcional para los metodos estadisticos que necesitan variables en escala."
      ],
      "metadata": {
        "id": "-AKE5mFX94Zl"
      }
    },
    {
      "cell_type": "markdown",
      "source": [
        "## **Ejercicio 3:** Transformación Logarítmica\n",
        "\n"
      ],
      "metadata": {
        "id": "sTidnFLAcNX4"
      }
    },
    {
      "cell_type": "markdown",
      "source": [
        "### **1.**\tCargar un conjunto de datos aleatorios generados con numpy.\n"
      ],
      "metadata": {
        "id": "3-3ILiivc0hQ"
      }
    },
    {
      "cell_type": "code",
      "source": [
        "#Carga de conjunto de datos aleatorios generados con numpy\n",
        "import numpy as np\n",
        "import matplotlib.pyplot as plt\n",
        "\n",
        "np.random.seed(42)\n",
        "data = np.random.exponential(scale=2, size=100)\n",
        "print(data)"
      ],
      "metadata": {
        "colab": {
          "base_uri": "https://localhost:8080/"
        },
        "id": "gXvNEXX6DKnL",
        "outputId": "929879ea-54e2-46a8-ffa0-390b944d5e47"
      },
      "execution_count": 13,
      "outputs": [
        {
          "output_type": "stream",
          "name": "stdout",
          "text": [
            "[0.93853618 6.02024286 2.63349139 1.82588511 0.33924974 0.33919258\n",
            " 0.11967754 4.02246173 1.83816431 2.46250012 0.04159862 7.00711495\n",
            " 3.57285909 0.47737525 0.40135798 0.40522285 0.72550746 1.48785566\n",
            " 1.13107413 0.68844599 1.89274175 0.30046906 0.69103102 0.91255444\n",
            " 1.21786938 3.07587202 0.44547172 1.44405831 1.79500944 0.0951277\n",
            " 1.87066604 0.3739225  0.13452786 5.94737559 6.74126068 3.30466315\n",
            " 0.72657572 0.20555463 2.30550153 1.16018169 0.26030447 1.36709446\n",
            " 0.06998744 4.80084577 0.59891555 2.1725116  0.74709316 1.46822179\n",
            " 1.5824476  0.4087772  6.98561427 2.98449075 5.61018884 4.504304\n",
            " 1.82210882 5.09887076 0.18531092 0.43626939 0.09256393 0.78706417\n",
            " 0.98426058 0.63312089 3.52911573 0.882454   0.65960568 1.56481417\n",
            " 0.3037963  3.24096719 0.15495174 8.66829268 2.95896755 0.44307888\n",
            " 0.01107484 3.37979355 2.45419181 2.61132582 2.95042905 0.15385853\n",
            " 0.88778534 0.24630021 3.97705914 1.95260238 0.8036376  0.13133613\n",
            " 0.7449767  0.78662843 2.61575157 2.02977872 4.36450382 1.27813227\n",
            " 0.25474479 2.49825269 2.86078551 1.64777499 2.94777993 1.36162946\n",
            " 1.47935768 1.11562839 0.05149555 0.22833487]\n"
          ]
        }
      ]
    },
    {
      "cell_type": "markdown",
      "source": [
        "### **2.**\tAplicar una transformación logarítmica (np.log) a los datos.\n"
      ],
      "metadata": {
        "id": "1cWH14Kxc6EW"
      }
    },
    {
      "cell_type": "code",
      "source": [
        "#aplicar una transformacion logaritmica (np.log) a los datos\n",
        "data_log = np.log(data)\n",
        "\n",
        "df3 = pd.DataFrame(data, columns=['data'])\n",
        "df3['data_log'] = data_log\n",
        "print(df3.head())"
      ],
      "metadata": {
        "colab": {
          "base_uri": "https://localhost:8080/"
        },
        "id": "1-s-L9EADROE",
        "outputId": "820a5321-7d06-43e4-e5d0-bb6cc1d85799"
      },
      "execution_count": 14,
      "outputs": [
        {
          "output_type": "stream",
          "name": "stdout",
          "text": [
            "       data  data_log\n",
            "0  0.938536 -0.063434\n",
            "1  6.020243  1.795128\n",
            "2  2.633491  0.968310\n",
            "3  1.825885  0.602065\n",
            "4  0.339250 -1.081019\n"
          ]
        }
      ]
    },
    {
      "cell_type": "markdown",
      "source": [
        "### **3.**\tRealizar una prueba de normalidad sobre los datos originales y transformados.\n"
      ],
      "metadata": {
        "id": "2z80U0LWc9aE"
      }
    },
    {
      "cell_type": "code",
      "source": [
        "#realizar una prueba de normalidad (Shapiro-Wilk) sobre los datos originales y transformados\n",
        "from scipy.stats import shapiro\n",
        "\n",
        "#datos originales\n",
        "stat4, p4 = shapiro(data)\n",
        "print('stat=%.3f, p=%.3f' % (stat4, p4))\n",
        "\n",
        "#datos transformados\n",
        "stat5, p5 = shapiro(data_log)\n",
        "print('stat=%.3f, p=%.3f' % (stat5, p5))\n",
        "\n",
        "if p4 > 0.05:\n",
        "\tprint('Original-Parece seguir una distribucion normal')\n",
        "else:\n",
        "\tprint('Original-No sigue una distribucion normal')\n",
        "\n",
        "\n",
        "if p5 > 0.05:\n",
        "\tprint('Normalizado-Parece seguir una distribucion normal')\n",
        "else:\n",
        "\tprint('Normalizado-No sigue una distribucion normal')"
      ],
      "metadata": {
        "colab": {
          "base_uri": "https://localhost:8080/"
        },
        "id": "O0kPnhEdDadx",
        "outputId": "a718cd32-70c2-46e2-bfb4-785ec07bb396"
      },
      "execution_count": 15,
      "outputs": [
        {
          "output_type": "stream",
          "name": "stdout",
          "text": [
            "stat=0.836, p=0.000\n",
            "stat=0.959, p=0.003\n",
            "Original-No sigue una distribucion normal\n",
            "Normalizado-No sigue una distribucion normal\n"
          ]
        }
      ]
    },
    {
      "cell_type": "markdown",
      "source": [
        "### **4.**\tGraficar los datos originales y transformados utilizando matplotlib.\n"
      ],
      "metadata": {
        "id": "H3jFfPVMdAJS"
      }
    },
    {
      "cell_type": "code",
      "source": [
        "#graficar los datos originales y transformados utilizando matplotlib\n",
        "plt.figure(figsize=(10, 5))\n",
        "\n",
        "plt.subplot(1, 2, 1)\n",
        "plt.hist(data, bins=30, density=True, alpha=0.6, color='#D9DB48')\n",
        "plt.title('Datos originales')\n",
        "\n",
        "plt.subplot(1, 2, 2)\n",
        "plt.hist(data_log, bins=30, density=True, alpha=0.6, color='#81822B')\n",
        "plt.title('Datos transformados')\n",
        "\n",
        "plt.tight_layout()\n",
        "plt.show()"
      ],
      "metadata": {
        "colab": {
          "base_uri": "https://localhost:8080/",
          "height": 507
        },
        "id": "ZNXCVMMsDi8C",
        "outputId": "7936b52f-5f94-408c-f030-f4f7e858ae78"
      },
      "execution_count": 28,
      "outputs": [
        {
          "output_type": "display_data",
          "data": {
            "text/plain": [
              "<Figure size 1000x500 with 2 Axes>"
            ],
            "image/png": "[encoded data removed]"
          },
          "metadata": {}
        }
      ]
    },
    {
      "cell_type": "markdown",
      "source": [
        "### **5.**\tPreguntas\n"
      ],
      "metadata": {
        "id": "EvDZv0Z2dDhn"
      }
    },
    {
      "cell_type": "markdown",
      "source": [
        "**1. ¿Cómo afectó la transformación logarítmica a la distribución de los datos?**\n",
        "\n",
        "Con la transformacion logaritmica redujo la simetria de la grafica (el que esta el pico hacia la izquierda). Con esto los valores se hacen mas \"pequeños\" y se puede semejar a la campana de Gauss.\n",
        "\n",
        "Tomando en cuenta que el original esta mas hacia la izquierda, ya con la normalización se ve mas simetrica.\n",
        "\n",
        "**2. ¿Qué interpretas del p-valor antes y después de la transformación logarítmica?**\n",
        "\n",
        "**Antes:** el valor de p era muy bajo del 0.05 dando a entender que no estaba normalizado.\n",
        "\n",
        "**Despues:** el valor de p aumenta y muchos casos superaban del 0.05, dando a entender que los datos se estaban semenajndo a una distribucion normal."
      ],
      "metadata": {
        "id": "3_wLGsZiGxE8"
      }
    },
    {
      "cell_type": "markdown",
      "source": [
        "## **Ejercicio 4:** Transformación Raíz Cuadrada"
      ],
      "metadata": {
        "id": "ZJ9HBqMxceNC"
      }
    },
    {
      "cell_type": "markdown",
      "source": [
        "### **1.**\tCargar un conjunto de datos aleatorios generados con numpy."
      ],
      "metadata": {
        "id": "Yca1abR6dPQ6"
      }
    },
    {
      "cell_type": "code",
      "source": [
        "#cargar el conjunto de datos aleatorios generados con numpy\n",
        "import numpy as np\n",
        "import matplotlib.pyplot as plt\n",
        "\n",
        "np.random.seed(42)\n",
        "data = np.random.exponential(scale=2, size=100)\n",
        "print(data)"
      ],
      "metadata": {
        "colab": {
          "base_uri": "https://localhost:8080/"
        },
        "id": "t6bKBoYxNoh2",
        "outputId": "8ea390b2-89d5-411f-b0f9-fcb4d3926add"
      },
      "execution_count": 17,
      "outputs": [
        {
          "output_type": "stream",
          "name": "stdout",
          "text": [
            "[0.93853618 6.02024286 2.63349139 1.82588511 0.33924974 0.33919258\n",
            " 0.11967754 4.02246173 1.83816431 2.46250012 0.04159862 7.00711495\n",
            " 3.57285909 0.47737525 0.40135798 0.40522285 0.72550746 1.48785566\n",
            " 1.13107413 0.68844599 1.89274175 0.30046906 0.69103102 0.91255444\n",
            " 1.21786938 3.07587202 0.44547172 1.44405831 1.79500944 0.0951277\n",
            " 1.87066604 0.3739225  0.13452786 5.94737559 6.74126068 3.30466315\n",
            " 0.72657572 0.20555463 2.30550153 1.16018169 0.26030447 1.36709446\n",
            " 0.06998744 4.80084577 0.59891555 2.1725116  0.74709316 1.46822179\n",
            " 1.5824476  0.4087772  6.98561427 2.98449075 5.61018884 4.504304\n",
            " 1.82210882 5.09887076 0.18531092 0.43626939 0.09256393 0.78706417\n",
            " 0.98426058 0.63312089 3.52911573 0.882454   0.65960568 1.56481417\n",
            " 0.3037963  3.24096719 0.15495174 8.66829268 2.95896755 0.44307888\n",
            " 0.01107484 3.37979355 2.45419181 2.61132582 2.95042905 0.15385853\n",
            " 0.88778534 0.24630021 3.97705914 1.95260238 0.8036376  0.13133613\n",
            " 0.7449767  0.78662843 2.61575157 2.02977872 4.36450382 1.27813227\n",
            " 0.25474479 2.49825269 2.86078551 1.64777499 2.94777993 1.36162946\n",
            " 1.47935768 1.11562839 0.05149555 0.22833487]\n"
          ]
        }
      ]
    },
    {
      "cell_type": "markdown",
      "source": [
        "### **2.**\tAplicar una transformación de raíz cuadrada a los datos.\n"
      ],
      "metadata": {
        "id": "MB7aFtKBdS8A"
      }
    },
    {
      "cell_type": "code",
      "source": [
        "#aplicar una transformacion de raiz cuadrada a los datos\n",
        "data_sqrt = np.sqrt(data)\n",
        "\n",
        "df4 = pd.DataFrame(data, columns=['data'])\n",
        "df4['data_sqrt'] = data_sqrt\n",
        "print(df4.head())"
      ],
      "metadata": {
        "colab": {
          "base_uri": "https://localhost:8080/"
        },
        "id": "UipIT268Nt_3",
        "outputId": "3032b36e-aa51-44b0-86bb-13b539a9f8f3"
      },
      "execution_count": 18,
      "outputs": [
        {
          "output_type": "stream",
          "name": "stdout",
          "text": [
            "       data  data_sqrt\n",
            "0  0.938536   0.968781\n",
            "1  6.020243   2.453618\n",
            "2  2.633491   1.622804\n",
            "3  1.825885   1.351253\n",
            "4  0.339250   0.582451\n"
          ]
        }
      ]
    },
    {
      "cell_type": "markdown",
      "source": [
        "### **3.**\tRealizar una prueba de normalidad sobre los datos originales y transformados."
      ],
      "metadata": {
        "id": "LXGbCDg4dhpW"
      }
    },
    {
      "cell_type": "code",
      "source": [
        "#realizar una prueba de normalidad sobre los datos originales y transformados\n",
        "from scipy.stats import shapiro\n",
        "\n",
        "#datos originales\n",
        "stat5, p5 = shapiro(data)\n",
        "print('stat=%.3f, p=%.3f' % (stat5, p5))\n",
        "\n",
        "#datos transformados\n",
        "stat6, p6 = shapiro(data_sqrt)\n",
        "print('stat=%.3f, p=%.3f' % (stat6, p6))\n",
        "\n",
        "if p5 > 0.05:\n",
        "\tprint('Original-Parece seguir una distribucion normal')\n",
        "else:\n",
        "\tprint('Original-No sigue una distribucion normal')\n",
        "\n",
        "\n",
        "if p6 > 0.05:\n",
        "\tprint('Normalizado-Parece seguir una distribucion normal')\n",
        "else:\n",
        "\tprint('Normalizado-No sigue una distribucion normal')"
      ],
      "metadata": {
        "colab": {
          "base_uri": "https://localhost:8080/"
        },
        "id": "FDQPJfQUNz-C",
        "outputId": "8d4ccf7f-3210-4ac3-f8f5-06bc24128665"
      },
      "execution_count": 19,
      "outputs": [
        {
          "output_type": "stream",
          "name": "stdout",
          "text": [
            "stat=0.836, p=0.000\n",
            "stat=0.963, p=0.007\n",
            "Original-No sigue una distribucion normal\n",
            "Normalizado-No sigue una distribucion normal\n"
          ]
        }
      ]
    },
    {
      "cell_type": "markdown",
      "source": [
        "### **4.**\tGraficar los datos originales y transformados utilizando matplotlib.\n"
      ],
      "metadata": {
        "id": "-EAdlv8qdlSm"
      }
    },
    {
      "cell_type": "code",
      "source": [
        "#graficar los datos originales y transformados utilizando matplotlib\n",
        "plt.figure(figsize=(10, 5))\n",
        "\n",
        "plt.subplot(1, 2, 1)\n",
        "plt.hist(data, bins=30, density=True, alpha=0.6, color='#5BC942')\n",
        "plt.title('Datos originales')\n",
        "\n",
        "plt.subplot(1, 2, 2)\n",
        "plt.hist(data_sqrt, bins=30, density=True, alpha=0.6, color='#3B822B')\n",
        "plt.title('Datos transformados')\n",
        "\n",
        "plt.tight_layout()\n",
        "plt.show()"
      ],
      "metadata": {
        "colab": {
          "base_uri": "https://localhost:8080/",
          "height": 507
        },
        "id": "atKqoT-kN6s3",
        "outputId": "cee36e3c-6fa9-4458-80e7-48276b44eb54"
      },
      "execution_count": 29,
      "outputs": [
        {
          "output_type": "display_data",
          "data": {
            "text/plain": [
              "<Figure size 1000x500 with 2 Axes>"
            ],
            "image/png": "[encoded data removed]"
          },
          "metadata": {}
        }
      ]
    },
    {
      "cell_type": "markdown",
      "source": [
        "### **5.**\tPreguntas"
      ],
      "metadata": {
        "id": "CJBFAI2sdpJq"
      }
    },
    {
      "cell_type": "markdown",
      "source": [
        "**1. ¿Cómo afectó la transformación raíz cuadrada a la distribución de los datos?**\n",
        "\n",
        "Con la raiz cuadrada hizo que la distribucion se fuera semejando a una distribucion normal, es decir un poco mas simetrica pero no de la misma manera que usando el logarimo.\n",
        "\n",
        "**2. ¿Qué efectos tiene la raíz cuadrada sobre los valores extremos de los datos?**\n",
        "\n",
        "Con el uso de la raiz cuadrada se redujo los valores grandes que se muestran el la grafica original, entonces esos valores grandes perdieran su tamaño y beneficiando a los que tenian nulo o bajo valor."
      ],
      "metadata": {
        "id": "fysVUhqGPtIY"
      }
    },
    {
      "cell_type": "markdown",
      "source": [
        "## **Ejercicio 5:** Transformación Box-Cox\n",
        "\n"
      ],
      "metadata": {
        "id": "3bz1072ocvXS"
      }
    },
    {
      "cell_type": "markdown",
      "source": [
        "### **1.**\tCargar un conjunto de datos aleatorios generados con numpy."
      ],
      "metadata": {
        "id": "OJMrBDxPdztf"
      }
    },
    {
      "cell_type": "code",
      "source": [
        "#cargar un conjunto de datos aleatorios generados con numpy\n",
        "import numpy as np\n",
        "import matplotlib.pyplot as plt\n",
        "import seaborn as sns\n",
        "\n",
        "np.random.seed(42)\n",
        "data = np.random.exponential(scale=2, size=100)\n",
        "print(data)"
      ],
      "metadata": {
        "colab": {
          "base_uri": "https://localhost:8080/"
        },
        "id": "ffuYmm2IVYbE",
        "outputId": "2558b510-6cf5-43ea-c994-92bad3364f97"
      },
      "execution_count": 21,
      "outputs": [
        {
          "output_type": "stream",
          "name": "stdout",
          "text": [
            "[0.93853618 6.02024286 2.63349139 1.82588511 0.33924974 0.33919258\n",
            " 0.11967754 4.02246173 1.83816431 2.46250012 0.04159862 7.00711495\n",
            " 3.57285909 0.47737525 0.40135798 0.40522285 0.72550746 1.48785566\n",
            " 1.13107413 0.68844599 1.89274175 0.30046906 0.69103102 0.91255444\n",
            " 1.21786938 3.07587202 0.44547172 1.44405831 1.79500944 0.0951277\n",
            " 1.87066604 0.3739225  0.13452786 5.94737559 6.74126068 3.30466315\n",
            " 0.72657572 0.20555463 2.30550153 1.16018169 0.26030447 1.36709446\n",
            " 0.06998744 4.80084577 0.59891555 2.1725116  0.74709316 1.46822179\n",
            " 1.5824476  0.4087772  6.98561427 2.98449075 5.61018884 4.504304\n",
            " 1.82210882 5.09887076 0.18531092 0.43626939 0.09256393 0.78706417\n",
            " 0.98426058 0.63312089 3.52911573 0.882454   0.65960568 1.56481417\n",
            " 0.3037963  3.24096719 0.15495174 8.66829268 2.95896755 0.44307888\n",
            " 0.01107484 3.37979355 2.45419181 2.61132582 2.95042905 0.15385853\n",
            " 0.88778534 0.24630021 3.97705914 1.95260238 0.8036376  0.13133613\n",
            " 0.7449767  0.78662843 2.61575157 2.02977872 4.36450382 1.27813227\n",
            " 0.25474479 2.49825269 2.86078551 1.64777499 2.94777993 1.36162946\n",
            " 1.47935768 1.11562839 0.05149555 0.22833487]\n"
          ]
        }
      ]
    },
    {
      "cell_type": "markdown",
      "source": [
        "### **2.**\tAplicar la transformación Box-Cox a los datos utilizando scipy.stats.boxcox.\n"
      ],
      "metadata": {
        "id": "lMFzlLVyd4Hs"
      }
    },
    {
      "cell_type": "code",
      "source": [
        "#aplicar la transformacion box-cox a los datos utilizando scipy.stats.boxcox\n",
        "from scipy.stats import boxcox\n",
        "\n",
        "#transformacion Box-Cox\n",
        "data_boxcox, lambda_boxcox = boxcox(data)\n",
        "\n",
        "print(f\"el valor de lambda que se obtuvo: {lambda_boxcox:.3f}\")#.3 es cantidad de decimales\n",
        "\n",
        "#dataframe\n",
        "df5 = pd.DataFrame(data, columns=['data'])\n",
        "df5['data_boxcox'] = data_boxcox\n",
        "print(df5.head())"
      ],
      "metadata": {
        "colab": {
          "base_uri": "https://localhost:8080/"
        },
        "id": "x1bMprHIWT0H",
        "outputId": "35d48775-820b-4b3e-ee55-ededa008777b"
      },
      "execution_count": 22,
      "outputs": [
        {
          "output_type": "stream",
          "name": "stdout",
          "text": [
            "el valor de lambda que se obtuvo: 0.231\n",
            "       data  data_boxcox\n",
            "0  0.938536    -0.062970\n",
            "1  6.020243     2.225621\n",
            "2  2.633491     1.085419\n",
            "3  1.825885     0.646039\n",
            "4  0.339250    -0.956371\n"
          ]
        }
      ]
    },
    {
      "cell_type": "markdown",
      "source": [
        "### **3.**\tRealizar una prueba de normalidad sobre los datos originales y transformados."
      ],
      "metadata": {
        "id": "BXvEt-FAd9y2"
      }
    },
    {
      "cell_type": "code",
      "source": [
        "#realizar una prueba  de normalidad sobre los datos originales y trasformados\n",
        "from scipy.stats import shapiro\n",
        "\n",
        "#datos originales\n",
        "stat7, p7 = shapiro(data)\n",
        "print('stat=%.3f, p=%.3f' % (stat7, p7))\n",
        "\n",
        "#datos transformados\n",
        "stat8, p8 = shapiro(data_boxcox)\n",
        "print('stat=%.3f, p=%.3f' % (stat8, p8))\n",
        "\n",
        "if p7 > 0.05:\n",
        "\tprint('Original-Parece seguir una distribucion normal')\n",
        "else:\n",
        "\tprint('Original-No sigue una distribucion normal')\n",
        "\n",
        "\n",
        "if p8 > 0.05:\n",
        "\tprint('Normalizado-Parece seguir una distribucion normal')\n",
        "else:\n",
        "\tprint('Normalizado-No sigue una distribucion normal')"
      ],
      "metadata": {
        "colab": {
          "base_uri": "https://localhost:8080/"
        },
        "id": "plbFN-YHWeS-",
        "outputId": "3d5fef5b-964d-41ae-ac49-6ddb7e3a1956"
      },
      "execution_count": 23,
      "outputs": [
        {
          "output_type": "stream",
          "name": "stdout",
          "text": [
            "stat=0.836, p=0.000\n",
            "stat=0.990, p=0.678\n",
            "Original-No sigue una distribucion normal\n",
            "Normalizado-Parece seguir una distribucion normal\n"
          ]
        }
      ]
    },
    {
      "cell_type": "markdown",
      "source": [
        "### **4.**\tGraficar los datos originales y transformados utilizando matplotlib."
      ],
      "metadata": {
        "id": "gRx7fjyCeBPW"
      }
    },
    {
      "cell_type": "code",
      "source": [
        "#graficar los datos originales y transformados utilizando matplitlib\n",
        "plt.figure(figsize=(10, 5))\n",
        "\n",
        "plt.subplot(1, 2, 1)\n",
        "sns.histplot(data, kde=True, color='#4256C9')\n",
        "plt.title('Datos originales')\n",
        "\n",
        "plt.subplot(1, 2, 2)\n",
        "sns.histplot(data_boxcox, kde=True, color='#253070')\n",
        "plt.title('Datos transformados')\n",
        "\n",
        "plt.tight_layout()\n",
        "plt.show()"
      ],
      "metadata": {
        "colab": {
          "base_uri": "https://localhost:8080/",
          "height": 507
        },
        "id": "o87-qGbLWqm_",
        "outputId": "e100e679-9161-476e-93bb-2101211c569b"
      },
      "execution_count": 30,
      "outputs": [
        {
          "output_type": "display_data",
          "data": {
            "text/plain": [
              "<Figure size 1000x500 with 2 Axes>"
            ],
            "image/png": "[encoded data removed]"
          },
          "metadata": {}
        }
      ]
    },
    {
      "cell_type": "markdown",
      "source": [
        "### **5.**\tPreguntas"
      ],
      "metadata": {
        "id": "a0AtdAXieEa6"
      }
    },
    {
      "cell_type": "markdown",
      "source": [
        "**1. ¿Cómo afectó la transformación Box-Cox a la distribución de los datos?**\n",
        "\n",
        "Con la transformacion del Box-Cox corrigio los datos con sesgo y trato de acercar los datos a la normalidad por el parametro de lambda.\n",
        "\n",
        "**2. ¿Qué interpretación tiene el valor lambda obtenido en la transformación Box-Cox?**\n",
        "\n",
        "Dependiendo a que valor de lambda se podia se hizo la transformacion, ejemplo:\n",
        "\n",
        "Valor de lamda:\n",
        "\n",
        "*Lamda = 1 como es un dato que ya estaba casi normal, entonces no tenia un tipo de transformacion.\n",
        "\n",
        "*Lamda = 0 entonces se se usaba log por la asimetria positiva que tenia.\n",
        "\n",
        "*Lamda = 0.5 se usaba raiz cuadrada por ser positiva tambien.\n",
        "\n",
        "*Lamda = -1 se usaba (1/x) por ser negativa."
      ],
      "metadata": {
        "id": "MDNll7K4WyrV"
      }
    }
  ]
}